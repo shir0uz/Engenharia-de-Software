{
  "nbformat": 4,
  "nbformat_minor": 0,
  "metadata": {
    "colab": {
      "provenance": [],
      "authorship_tag": "ABX9TyP17Gsgd0Cv/rcmaPqyehen",
      "include_colab_link": true
    },
    "kernelspec": {
      "name": "python3",
      "display_name": "Python 3"
    },
    "language_info": {
      "name": "python"
    }
  },
  "cells": [
    {
      "cell_type": "markdown",
      "metadata": {
        "id": "view-in-github",
        "colab_type": "text"
      },
      "source": [
        "<a href=\"https://colab.research.google.com/github/shir0uz/Engenharia-de-Software/blob/main/LISTA_DE_EXERC%C3%8DCIOS_Condicionais.ipynb\" target=\"_parent\"><img src=\"https://colab.research.google.com/assets/colab-badge.svg\" alt=\"Open In Colab\"/></a>"
      ]
    },
    {
      "cell_type": "code",
      "execution_count": null,
      "metadata": {
        "colab": {
          "base_uri": "https://localhost:8080/"
        },
        "id": "fhl8v72ddf8O",
        "outputId": "21b92be9-ed83-4058-bd4b-f2add99635ce"
      },
      "outputs": [
        {
          "output_type": "stream",
          "name": "stdout",
          "text": [
            "Digite o preço do produto: 30\n",
            "Preço reajustado: R$ 33.00\n"
          ]
        }
      ],
      "source": [
        "# 01. Faça um programa que leia o preço de um produto e inflaciona esse preço em 10% se ele for menor que 100 e em 20% se ele for maior ou igual a 100.\n",
        "preco = float(input(\"Digite o preço do produto: \"))\n",
        "if preco < 100:\n",
        "    preco *= 1.10\n",
        "else:\n",
        "    preco *= 1.20\n",
        "print(f\"Preço reajustado: R$ {preco:.2f}\")\n"
      ]
    },
    {
      "cell_type": "code",
      "source": [
        "# 02. Escreva um programa que leia 3 números inteiros e determine (imprima) o maior número dentre eles.\n",
        "\n",
        "num1 = int(input(\"Digite o primeiro número: \"))\n",
        "num2 = int(input(\"Digite o segundo número: \"))\n",
        "num3 = int(input(\"Digite o terceiro número: \"))\n",
        "\n",
        "maior = num1\n",
        "\n",
        "if num2 > maior:\n",
        "    maior = num2\n",
        "if num3 > maior:\n",
        "    maior = num3\n",
        "print(\"O maior número é:\", maior)\n"
      ],
      "metadata": {
        "colab": {
          "base_uri": "https://localhost:8080/"
        },
        "id": "_aON5HUmd8F1",
        "outputId": "bae660cf-08e0-435f-efa7-6bb245e58bc5"
      },
      "execution_count": null,
      "outputs": [
        {
          "output_type": "stream",
          "name": "stdout",
          "text": [
            "Digite o primeiro número: 2\n",
            "Digite o segundo número: 3\n",
            "Digite o terceiro número: 4\n",
            "O maior número é: 4\n"
          ]
        }
      ]
    },
    {
      "cell_type": "code",
      "source": [
        "# 03. Considere uma máquina que permite apenas três operações: ligar,\n",
        "# desligar e furar. Escreva um programa que modele o funcionamento desta\n",
        "# máquina, de acordo com o desejo do usuário.\n",
        "\n",
        "opcao = input(\"Digite L para ligar, D para desligar ou F para furar: \")\n",
        "if opcao == 'L':\n",
        "    print(\"Ligar\")\n",
        "elif opcao == 'D':\n",
        "    print(\"Desligar\")\n",
        "elif opcao == 'F':\n",
        "    print(\"Furar\")\n",
        "else:\n",
        "    print(\"Opção inválida\")\n",
        "\n"
      ],
      "metadata": {
        "colab": {
          "base_uri": "https://localhost:8080/"
        },
        "id": "qNgiNu2jeMPc",
        "outputId": "c83efeb3-af70-42d8-9a38-79281c014136"
      },
      "execution_count": null,
      "outputs": [
        {
          "output_type": "stream",
          "name": "stdout",
          "text": [
            "Digite L para ligar, D para desligar ou F para furar: D\n",
            "Desligar\n"
          ]
        }
      ]
    },
    {
      "cell_type": "code",
      "source": [
        "# 04. Faça um programa que lê um valor, um operador (+,-,*,/) e outro valor e imprime o resultado da expressão, da seguinte forma:\n",
        "# <valor 1> <operador> <valor 2> < = > <resultado> Você deve garantir que\n",
        "# apenas um das operações (+,-,*,/) seja executada, de acordo com a opção do\n",
        "# usuário.\n",
        "\n",
        "\n",
        "v1 = float(input(\"Digite o primeiro valor: \"))\n",
        "operador = input(\"Digite o operador (+, -, *, /): \")\n",
        "v2 = float(input(\"Digite o segundo valor: \"))\n",
        "\n",
        "resultado = None\n",
        "\n",
        "if operador == '+':\n",
        "    resultado = v1 + v2\n",
        "elif operador == '-':\n",
        "    resultado = v1 - v2\n",
        "elif operador == '*':\n",
        "    resultado = v1 * v2\n",
        "elif operador == '/':\n",
        "    if v2 != 0:\n",
        "        resultado = v1 / v2\n",
        "    else:\n",
        "        print(\"Erro: divisão por zero\")\n",
        "else:\n",
        "    print(\"Operador inválido\")\n",
        "\n",
        "if resultado is not None:\n",
        "    print(f\"{v1} {operador} {v2} = {resultado}\")"
      ],
      "metadata": {
        "colab": {
          "base_uri": "https://localhost:8080/"
        },
        "id": "LafnQOjMggOW",
        "outputId": "01e48cad-f111-49ef-baab-7f1266375b87"
      },
      "execution_count": null,
      "outputs": [
        {
          "output_type": "stream",
          "name": "stdout",
          "text": [
            "Digite o primeiro valor: 3\n",
            "Digite o operador (+, -, *, /): /\n",
            "Digite o segundo valor: 0\n",
            "Erro: divisão por zero\n"
          ]
        }
      ]
    },
    {
      "cell_type": "code",
      "source": [
        "# 05. Sabe-se que no cálculo da distância euclidiana entre dois pontos, cada ponto\n",
        "# é deﬁnido pelas coordenadas (x,y). A distância pode ser calculada de\n",
        "# acordo com a fórmula:\n",
        "\n",
        "import math\n",
        "x1 = float(input(\"Digite x1: \"))\n",
        "y1 = float(input(\"Digite y1: \"))\n",
        "x2 = float(input(\"Digite x2: \"))\n",
        "y2 = float(input(\"Digite y2: \"))\n",
        "\n",
        "dist = math.sqrt((x1 - x2)**2 + (y1 - y2)**2)\n",
        "print(f\"Distância: {dist:.2f}\")\n",
        "\n",
        "if dist == 0:\n",
        "    print(\"Pontos coincidentes\")"
      ],
      "metadata": {
        "colab": {
          "base_uri": "https://localhost:8080/"
        },
        "id": "9cTFJwW0hFOI",
        "outputId": "e0c71a9f-9d84-47d2-8806-6fd3d089afdb"
      },
      "execution_count": null,
      "outputs": [
        {
          "output_type": "stream",
          "name": "stdout",
          "text": [
            "Digite x1: 2\n",
            "Digite y1: 2\n",
            "Digite x2: 2\n",
            "Digite y2: 2\n",
            "Distância: 0.00\n",
            "Pontos coincidentes\n"
          ]
        }
      ]
    },
    {
      "cell_type": "code",
      "source": [
        "# 06. Escreva um programa que leia três pontos geométricos quaisquer e\n",
        "# determine se estes formam um triângulo. Para isto, pode ser utilizada a\n",
        "# fórmula da distância entre dois pontos para calcular as medidas dos lados do\n",
        "# triângulo.\n",
        "\n",
        "# Dica: Note-se que um triângulo só é válido se a medida de cada um dos seus lados\n",
        "# é menor que a soma dos lados restantes.\n",
        "\n",
        "# É um triângulo se: a soma dos comprimentos de dois quaisquer desses segmentos\n",
        "# é sempre maior que o comprimento do terceiro segmento\n",
        "\n",
        "import math\n",
        "x1, y1 = float(input(\"x1: \")), float(input(\"y1: \"))\n",
        "x2, y2 = float(input(\"x2: \")), float(input(\"y2: \"))\n",
        "x3, y3 = float(input(\"x3: \")), float(input(\"y3: \"))\n",
        "\n",
        "lado1 = math.dist((x1, y1), (x2, y2))\n",
        "lado2 = math.dist((x2, y2), (x3, y3))\n",
        "lado3 = math.dist((x3, y3), (x1, y1))\n",
        "\n",
        "if (lado1 < lado2 + lado3) and (lado2 < lado1 + lado3) and (lado3 < lado1 + lado2):\n",
        "    print(\"Forma um triângulo\")\n",
        "else:\n",
        "    print(\"Não é possível formar um triângulo\")\n"
      ],
      "metadata": {
        "colab": {
          "base_uri": "https://localhost:8080/"
        },
        "id": "CHBX1kZyhnnx",
        "outputId": "88afee15-ffd4-4efe-923a-f38a2cb4d7b7"
      },
      "execution_count": null,
      "outputs": [
        {
          "output_type": "stream",
          "name": "stdout",
          "text": [
            "x1: 3\n",
            "y1: 5\n",
            "x2: 3\n",
            "y2: 2\n",
            "x3: 7\n",
            "y3: 8\n",
            "Forma um triângulo\n"
          ]
        }
      ]
    },
    {
      "cell_type": "code",
      "source": [
        "# 07. Classificar um triângulo quanto aos lados, sendo que um\n",
        "# triângulo com todos lados iguais é designado Equilátero, com todos os lados\n",
        "# diferentes entre si é designado Escaleno e caso tenha apenas dois lados\n",
        "# iguais entre si, designa-se Isósceles.\n",
        "\n",
        "lado1 = float(input(\"Lado 1: \"))\n",
        "lado2 = float(input(\"Lado 2: \"))\n",
        "lado3 = float(input(\"Lado 3: \"))\n",
        "\n",
        "if lado1 == lado2 == lado3:\n",
        "    print(\"Equilátero\") # lados iguais\n",
        "elif lado1 == lado2 or lado1 == lado3 or lado2 == lado3:\n",
        "    print(\"Isósceles\") # dois lados iguais\n",
        "else:\n",
        "    print(\"Escaleno\") # lados diferentes"
      ],
      "metadata": {
        "colab": {
          "base_uri": "https://localhost:8080/"
        },
        "id": "E1UdNKlHi4Ow",
        "outputId": "2eba2e5e-3162-44a2-c5f0-d682bfbd82a0"
      },
      "execution_count": null,
      "outputs": [
        {
          "output_type": "stream",
          "name": "stdout",
          "text": [
            "Lado 1: 2\n",
            "Lado 2: 3\n",
            "Lado 3: 4\n",
            "Escaleno\n"
          ]
        }
      ]
    },
    {
      "cell_type": "code",
      "source": [
        "# Escreva um programa que dados dois valores, divide o primeiro pelo segundo. Note que não é possível\n",
        "# fazer a divisão por zero, neste caso deve ser apresentada a mensagem\n",
        "# adequada.\n",
        "\n",
        "num1 = float(input(\"Determine o primeiro valor: \"))\n",
        "num2 = float(input(\"Determine o segundo valor: \"))\n",
        "\n",
        "if num2 != 0:\n",
        "  print(f\"O Resultado da divisão é: {num1 / num2}\")\n",
        "else:\n",
        "  print(\"Não é possível dividir por zero\")\n"
      ],
      "metadata": {
        "colab": {
          "base_uri": "https://localhost:8080/"
        },
        "id": "t8IY6aWLjl3f",
        "outputId": "e5d16b28-3efc-4679-e5e0-8c45f3680e15"
      },
      "execution_count": null,
      "outputs": [
        {
          "output_type": "stream",
          "name": "stdout",
          "text": [
            "Determine o primeiro valor: 3\n",
            "Determine o segundo valor: 0\n",
            "Não é possível dividir por zero\n"
          ]
        }
      ]
    },
    {
      "cell_type": "code",
      "source": [
        "from re import escape\n",
        "# 09. Escreva um programa, em Python, que faça a conversão de escalas\n",
        "# de temperaturas, com base em um valor de entrada: a temperatura.\n",
        "# Permita que o usuário defina a escala de temperatura atual\n",
        "# (Kelvin, Celsius ou Fahrenheit), e a partir da escala informada,\n",
        "# realize a conversão indicada (para Kelvin, Celsius e Fahrenheit), por exemplo:\n",
        "\n",
        "# Se você definir que a entrada da temperatura deve ser dada em Celsius, significa que a conversão\n",
        "# deve ser feita para Kelvin e Fahrenheit. Considere as fórmulas abaixo na resolução do programa.\n",
        "\n",
        "# Para transformar Celsius para Kelvin: Tk = Tc + 273\n",
        "# Para transformar Celsius para Fahrenheit ou Fahrenheit para Celsius: Tc = ((Tf-32)/9)*5\n",
        "\n",
        "# Para transformar Kelvin para Celsius: Tc = Tk-273\n",
        "# Para transformar Kelvin para Fahrenheit ou Fahrenheit para Kelvin: (Tf-32)/9 = (Tk-273) /5\n",
        "\n",
        "temp = float(input(\"Determine o valor para a temperatura: \"))\n",
        "escala = input(\"Determine a escala de temperatura (C, K ou F): \")\n",
        "\n",
        "if escala == 'C':\n",
        "    k = temp + 273\n",
        "    f = (temp * 9/5) + 32\n",
        "    print(f\"Kelvin: {k:.2f}, Fahrenheit: {f:.2f}\")\n",
        "\n",
        "elif escala == 'F':\n",
        "    c = (temp - 32) * 5/9\n",
        "    k = c + 273\n",
        "    print(f\"Celsius: {c:.2f}, Kelvin: {k:.2f}\")\n",
        "\n",
        "elif escala == 'K':\n",
        "    c = temp - 273\n",
        "    f = (c * 9/5) + 32\n",
        "    print(f\"Celsius: {c:.2f}, Fahrenheit: {f:.2f}\")\n",
        "\n",
        "else:\n",
        "    print(\"Escala inválida\")\n"
      ],
      "metadata": {
        "colab": {
          "base_uri": "https://localhost:8080/"
        },
        "id": "OtB3UIAAkQ68",
        "outputId": "60f39608-5c7f-4b0c-c741-3e50b0decf8a"
      },
      "execution_count": null,
      "outputs": [
        {
          "output_type": "stream",
          "name": "stdout",
          "text": [
            "Determine o valor para a temperatura: 12\n",
            "Determine a escala de temperatura (C, K ou F): F\n",
            "Celsius: -11.11, Kelvin: 261.89\n"
          ]
        }
      ]
    },
    {
      "cell_type": "code",
      "source": [
        "# 10. Um ano é bissexto se é divisível por 4, exceto se, além de ser divisível por 4, for também divisível por 100.\n",
        "# Então ele só é bissexto se também for divisível por 400. Escrever um\n",
        "# programa que leia o valor de um ano e escreva se o ano é ou não bissexto. A\n",
        "\n",
        "# A cada 4 anos o ano é bissexto, ou seja, todos os anos divisíveis por 4.\n",
        "\n",
        "# A cada 100 anos o ano não é bissexto, apesar de ser divisível por 4.\n",
        "\n",
        "# A cada 400 anos o ano é bissexto, apesar de ser divisível por 100.\n",
        "\n",
        "# SÍNTESE: se o ano é divisível por 4, mas não por 100,\n",
        "# a menos que também seja divisível por 400\n",
        "\n",
        "ano = int(input(\"Digite o ano: \"))\n",
        "\n",
        "if (ano % 4 == 0 and ano % 100 != 0) or (ano % 400 == 0):\n",
        "    print(\"O ano é bissexto\")\n",
        "else:\n",
        "    print(\"O ano não é bissexto\")"
      ],
      "metadata": {
        "colab": {
          "base_uri": "https://localhost:8080/"
        },
        "id": "nLbAXshYnDtm",
        "outputId": "4554c0c1-f577-4043-b6e1-db40ee2e8795"
      },
      "execution_count": null,
      "outputs": [
        {
          "output_type": "stream",
          "name": "stdout",
          "text": [
            "Digite o ano: 2015\n",
            "O ano não é bissexto\n"
          ]
        }
      ]
    },
    {
      "cell_type": "code",
      "source": [
        "# 11. Considere um parque de estacionamento que pratica os preços seguintes:\n",
        "# • 1ª hora: R$ 2,00;\n",
        "# • 2ª hora: R$ 1,50;\n",
        "# • a partir da 2ª hora: R$ 1,00/hora.\n",
        "\n",
        "# O tempo de permanência no parque é contabilizado em horas e minutos. Por exemplo, se um veículo permanecer\n",
        "# 2 horas e 30 minutos no parque, pagará R$ 2,00 (1ª hora) + R$ 1,50 (2ª\n",
        "# hora) + R$ 0,50 (30 minutos a R$ 1,00/hora) = R$ 4,00. Elabore um programa\n",
        "# que, lido o tempo que determinada veículo permaneceu estacionado no parque,\n",
        "# diga a quantia que deve ser paga pelo proprietário do veículo.\n",
        "\n",
        "horas = int(input(\"Defina as horas: \"))\n",
        "minutos = int(input(\"Defina os minutos: \"))\n",
        "\n",
        "horas = int(input(\"Digite as horas: \"))\n",
        "minutos = int(input(\"Digite os minutos: \"))\n",
        "\n",
        "total = 0\n",
        "if horas >= 1:\n",
        "    total += 2\n",
        "if horas >= 2:\n",
        "    total += 1.5\n",
        "if horas > 2:\n",
        "    total += (horas - 2) * 1\n",
        "total += (minutos / 60) * 1\n",
        "\n",
        "print(f\"Valor a pagar: R$ {total:.2f}\")"
      ],
      "metadata": {
        "id": "VxFLo8SppW19"
      },
      "execution_count": null,
      "outputs": []
    },
    {
      "cell_type": "code",
      "source": [
        "# 12. Escreva um programa que verifique qual\n",
        "# o turno do dia baseado na hora digitada.\n",
        "\n",
        "hora = int(input(\"Digite a hora (0-23): \"))\n",
        "if 6 <= hora <= 12:\n",
        "    print(\"Manhã\")\n",
        "elif 13 <= hora <= 18:\n",
        "    print(\"Tarde\")\n",
        "elif 1 <= hora <= 5:\n",
        "    print(\"Madrugada\")\n",
        "else:\n",
        "    print(\"Noite\")"
      ],
      "metadata": {
        "colab": {
          "base_uri": "https://localhost:8080/"
        },
        "id": "-k1K1orasF2l",
        "outputId": "072365d7-cf01-4fc9-f191-f3cfa79c7a26"
      },
      "execution_count": null,
      "outputs": [
        {
          "output_type": "stream",
          "name": "stdout",
          "text": [
            "Digite a hora (0-23): 24\n",
            "Noite\n"
          ]
        }
      ]
    },
    {
      "cell_type": "code",
      "source": [
        "# DESAFIO: Escreva um programa que verifique se um caractere\n",
        "# digitado é vogal ou consoante.\n",
        "\n",
        "caractere = input(\"Digite um caractere: \")\n",
        "if caractere.lower() in 'aeiou':\n",
        "    print(\"Vogal\")\n",
        "elif caractere.isalpha():\n",
        "    print(\"Consoante\")\n",
        "else:\n",
        "    print(\"Não é uma letra\")"
      ],
      "metadata": {
        "colab": {
          "base_uri": "https://localhost:8080/"
        },
        "id": "h5zZaq0etTcD",
        "outputId": "d1bd818c-d635-4b5d-e712-e0c2c21b69e0"
      },
      "execution_count": null,
      "outputs": [
        {
          "output_type": "stream",
          "name": "stdout",
          "text": [
            "Digite um caractere: 2\n",
            "Não é uma letra\n"
          ]
        }
      ]
    },
    {
      "cell_type": "code",
      "source": [
        "# 14. Faça um programa que receba o tamanho dos três lados de um triangulo e diga se o\n",
        "# triangulo existe e, se existir, qual o seu tipo\n",
        "\n",
        "# Um triangulo só pode existir quando todo\n",
        "# lado é menor do que a soma dos outros dois lados.\n",
        "\n",
        "# Um triangulo é dito equilátero se todos os lados são do mesmo tamanho\n",
        "\n",
        "# Um triangulo é dito isósceles se dois dos lados são do mesmo tamanho\n",
        "\n",
        "# Um triangulo é dito escaleno quando nenhum lado é do mesmo tamanho\n",
        "\n",
        "lado1 = float(input(\"Lado 1: \"))\n",
        "lado2 = float(input(\"Lado 2: \"))\n",
        "lado3 = float(input(\"Lado 3: \"))\n",
        "\n",
        "if (lado1 < lado2 + lado3) and (lado2 < lado1 + lado3) and (lado3 < lado1 + lado2):\n",
        "    if lado1 == lado2 == lado3:\n",
        "        print(\"Equilátero\")\n",
        "    elif lado1 != lado2 and lado2 != lado3 and lado1 != lado3:\n",
        "        print(\"Escaleno\")\n",
        "    else:\n",
        "        print(\"Isósceles\")\n",
        "else:\n",
        "    print(\"Não é um triângulo\")\n",
        "\n"
      ],
      "metadata": {
        "colab": {
          "base_uri": "https://localhost:8080/"
        },
        "id": "GN2rrKQps_4q",
        "outputId": "5a2adf40-c899-4b23-cbb9-20fb828f5224"
      },
      "execution_count": null,
      "outputs": [
        {
          "output_type": "stream",
          "name": "stdout",
          "text": [
            "Lado 1: 1\n",
            "Lado 2: 3\n",
            "Lado 3: 4\n",
            "Não é um triângulo\n"
          ]
        }
      ]
    }
  ]
}